{
 "cells": [
  {
   "cell_type": "code",
   "execution_count": 1,
   "id": "2bf62808",
   "metadata": {},
   "outputs": [
    {
     "name": "stdout",
     "output_type": "stream",
     "text": [
      "Importing Packages...\n",
      "-Packages Imported\n"
     ]
    }
   ],
   "source": [
    "print('Importing Packages...')\n",
    "import xlrd\n",
    "import os\n",
    "from pathlib import Path\n",
    "print('-Packages Imported')"
   ]
  },
  {
   "cell_type": "code",
   "execution_count": 2,
   "id": "80ce7e84",
   "metadata": {},
   "outputs": [
    {
     "name": "stdout",
     "output_type": "stream",
     "text": [
      "Pulling IDs and Titles from Excel\n",
      "-Finish loading IDs and Titles\n"
     ]
    }
   ],
   "source": [
    "# Open file excel and sheet\n",
    "print('Pulling IDs and Titles from Excel')\n",
    "path = \"C:/Users/Admin/Desktop/VANANHDH/DATA ANALYTICS_STUDY/BOT/File Rename BOT/organizeVideos/database.xls\"\n",
    "workbook = xlrd.open_workbook(path)\n",
    "sheet = 'video-names'\n",
    "sheet = workbook.sheet_by_name(sheet)\n",
    "\n",
    "# Create 2 lists with titles and ids info\n",
    "video_titles = sheet.col_values(0, start_rowx=1)\n",
    "video_ids = sheet.col_values(1, start_rowx=1)\n",
    "video_ids_str = [str(int(item)) for item in video_ids]\n",
    "\n",
    "print(\"-Finish loading IDs and Titles\")"
   ]
  },
  {
   "cell_type": "code",
   "execution_count": 3,
   "id": "68aaeac3",
   "metadata": {},
   "outputs": [
    {
     "name": "stdout",
     "output_type": "stream",
     "text": [
      "-Finish matching\n"
     ]
    }
   ],
   "source": [
    "id_dict = {}\n",
    "\n",
    "for i in range(len(video_titles)):\n",
    "    id_dict[video_ids_str[i]] = video_titles[i]\n",
    "\n",
    "print(\"-Finish matching\")"
   ]
  },
  {
   "cell_type": "code",
   "execution_count": 4,
   "id": "3c437fc3",
   "metadata": {},
   "outputs": [],
   "source": [
    "path2 = \"C:/Users/Admin/Desktop/VANANHDH/DATA ANALYTICS_STUDY/BOT/File Rename BOT/organizeVideos\"\n",
    "os.chdir(path2)"
   ]
  },
  {
   "cell_type": "code",
   "execution_count": 6,
   "id": "74d8ea66",
   "metadata": {},
   "outputs": [
    {
     "name": "stdout",
     "output_type": "stream",
     "text": [
      "Renaming files...\n",
      "-Finish renaming files\n"
     ]
    }
   ],
   "source": [
    "# Rename file\n",
    "print(\"Renaming files...\")\n",
    "for f in os.listdir():\n",
    "    for ids, titles in id_dict.items():\n",
    "        video_name, extension = os.path.splitext(f)\n",
    "        if ids == video_name:\n",
    "            name = f'{titles}{extension}'\n",
    "            os.rename(f, name)\n",
    "print(\"-Finish renaming files\")"
   ]
  },
  {
   "cell_type": "code",
   "execution_count": 7,
   "id": "5486828c",
   "metadata": {},
   "outputs": [
    {
     "name": "stdout",
     "output_type": "stream",
     "text": [
      "['Action & Adventure', 'Anime', 'Children & Family', 'Classic', 'Comedies', 'Documentaries', 'Dramas', 'Horror', 'Music', 'Romantic', 'Sci-fi & Fantasy', 'Sports', 'Thrillers', 'TV Shows']\n",
      "-Finish pulling genres\n"
     ]
    }
   ],
   "source": [
    "# Pull the genres data to our file\n",
    "\n",
    "sheet2 = workbook.sheet_by_name('main-genres')\n",
    "genres = sheet2.col_values(0, start_rowx=1)\n",
    "print(genres)\n",
    "print('-Finish pulling genres')"
   ]
  },
  {
   "cell_type": "code",
   "execution_count": 8,
   "id": "f1a2db7b",
   "metadata": {},
   "outputs": [
    {
     "name": "stdout",
     "output_type": "stream",
     "text": [
      "-Finish matching files and genres\n"
     ]
    }
   ],
   "source": [
    "# Match files with genre\n",
    "genre_dict = {}\n",
    "\n",
    "for i in genres:\n",
    "    genre_dict[i] = []\n",
    "    \n",
    "for video in os.listdir(path2):\n",
    "    for genre, videos in genre_dict.items():\n",
    "        if genre in video:\n",
    "            videos.append(video)\n",
    "\n",
    "print('-Finish matching files and genres')\n",
    "def pick_directory(value):\n",
    "    for genre, videos in genre_dict.items():\n",
    "        for video in videos:\n",
    "            if value == video:\n",
    "                return genre\n",
    "    return \"Others\"\n"
   ]
  },
  {
   "cell_type": "code",
   "execution_count": 9,
   "id": "b5f20f14",
   "metadata": {},
   "outputs": [
    {
     "name": "stdout",
     "output_type": "stream",
     "text": [
      "Comedies\n"
     ]
    }
   ],
   "source": [
    "# Test function pick_directory\n",
    "print(pick_directory('African-American Comedies.mp4'))"
   ]
  },
  {
   "cell_type": "code",
   "execution_count": 10,
   "id": "83ab5586",
   "metadata": {},
   "outputs": [
    {
     "name": "stdout",
     "output_type": "stream",
     "text": [
      "Creating folder and moving files...\n",
      "-Finish moving files\n"
     ]
    }
   ],
   "source": [
    "# Create folder of genres and Move files\n",
    "\n",
    "print('Creating folder and moving files...')\n",
    "os.chdir(path2)\n",
    "for f in os.scandir():\n",
    "    if f.is_dir():\n",
    "        continue\n",
    "    filePath = Path(f)\n",
    "    directory = pick_directory(str(filePath))\n",
    "    directoryPath = Path(directory)\n",
    "    if directoryPath.is_dir() != True:\n",
    "        directoryPath.mkdir()\n",
    "    fileDestination = directoryPath.joinpath(filePath)\n",
    "    \n",
    "    filePath.rename(fileDestination)\n",
    "\n",
    "print('-Finish moving files')"
   ]
  },
  {
   "cell_type": "code",
   "execution_count": null,
   "id": "04d08fe1",
   "metadata": {},
   "outputs": [],
   "source": []
  }
 ],
 "metadata": {
  "kernelspec": {
   "display_name": "Python 3",
   "language": "python",
   "name": "python3"
  },
  "language_info": {
   "codemirror_mode": {
    "name": "ipython",
    "version": 3
   },
   "file_extension": ".py",
   "mimetype": "text/x-python",
   "name": "python",
   "nbconvert_exporter": "python",
   "pygments_lexer": "ipython3",
   "version": "3.8.8"
  }
 },
 "nbformat": 4,
 "nbformat_minor": 5
}
